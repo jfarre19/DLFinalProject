{
 "cells": [
  {
   "cell_type": "code",
   "execution_count": 16,
   "metadata": {},
   "outputs": [],
   "source": [
    "import numpy as np\n",
    "import pandas as pd\n",
    "\n",
    "from os import listdir\n",
    "from os.path import basename, isfile, join\n",
    "\n",
    "from matplotlib.pyplot import imshow"
   ]
  },
  {
   "cell_type": "code",
   "execution_count": 2,
   "metadata": {},
   "outputs": [],
   "source": [
    "metadata = pd.read_csv(join('data', 'metadata.csv'))"
   ]
  },
  {
   "cell_type": "code",
   "execution_count": 54,
   "metadata": {},
   "outputs": [
    {
     "data": {
      "text/plain": [
       "345"
      ]
     },
     "execution_count": 54,
     "metadata": {},
     "output_type": "execute_result"
    }
   ],
   "source": [
    "%reload_ext autoreload\n",
    "%autoreload 2\n",
    "from DataGenerator import DataGenerator\n",
    "\n",
    "datagen = DataGenerator(metadata, 32)\n",
    "datagen.n_classes"
   ]
  },
  {
   "cell_type": "code",
   "execution_count": null,
   "metadata": {},
   "outputs": [],
   "source": [
    "from keras.models import Sequential, Model\n",
    "from keras import Input\n",
    "from keras.layers import Dense, Reshape, Flatten, Conv2D, LeakyReLU, Concatenate\n",
    "\n",
    "def discriminator():\n",
    "    dropout=0.4\n",
    "    depth=64\n",
    "    alpha=0.2\n",
    "    \n",
    "    label = Input(shape=(1,))\n",
    "    x = Embedding(345,50)(label)\n",
    "    x = Dense(784)(x)\n",
    "    x = Reshape((28,28,1))(x)\n",
    "    \n",
    "    image = Input(shape=(28,28,1))\n",
    "    \n",
    "    concat = Concatenate()[image,x]\n",
    "    x = Conv2D(1*depth,5,strides=2,padding='same')(concat)\n",
    "    x = Dropout(dropout)(x)\n",
    "    x = LeakyReLU(alpha=alpha)(x)\n",
    "    x = Conv2D(2*depth,5,strides=2,padding='same')(x)\n",
    "    x = Dropout(dropout)(x)\n",
    "    x = LeakyReLU(alpha=alpha)(x)\n",
    "    x = Conv2D(4*depth,5,strides=2,padding='same')(x)\n",
    "    x = Dropout(dropout)(x)\n",
    "    x = LeakyReLU(alpha=alpha)(x)\n",
    "    x = Conv2D(8*depth,5,strides=1,padding='same')(x)\n",
    "    x = Dropout(dropout)(x)\n",
    "    x = LeakyReLU(alpha=alpha)(x)\n",
    "    x = Flatten()(x)\n",
    "    out = Dense(1,activation='sigmoid')(x)\n",
    "    \n",
    "    model = Model(inputs=[image,label], outputs=out)\n",
    "    opt = Adam(lr=0.0002, beta_1=0.5)\n",
    "    model.compile(loss='binary_crossentropy', optimizer=opt, metrics=['accuracy'])\n",
    "    return model\n",
    "    \n",
    "    \n",
    "    \n",
    "    \n"
   ]
  }
 ],
 "metadata": {
  "kernelspec": {
   "display_name": "Neural Networks",
   "language": "python",
   "name": "neural-networks"
  },
  "language_info": {
   "codemirror_mode": {
    "name": "ipython",
    "version": 3
   },
   "file_extension": ".py",
   "mimetype": "text/x-python",
   "name": "python",
   "nbconvert_exporter": "python",
   "pygments_lexer": "ipython3",
   "version": "3.8.5"
  }
 },
 "nbformat": 4,
 "nbformat_minor": 4
}
