{
 "cells": [
  {
   "cell_type": "markdown",
   "metadata": {},
   "source": [
    "# Google's Quick Draw Dataset and GANs\n",
    "## Lawton Manning, John Farrell, and Liyao Zhang"
   ]
  },
  {
   "cell_type": "markdown",
   "metadata": {},
   "source": [
    "*Before running this Notebook:* <br> Make sure to download the QuickDraw files corresponding to the '.npy' filetype.\n",
    "\n",
    "More information on Google's Quick Draw dataset found in their repository here: https://github.com/googlecreativelab/quickdraw-dataset "
   ]
  },
  {
   "cell_type": "markdown",
   "metadata": {},
   "source": [
    "## Preliminary Data Prep:"
   ]
  },
  {
   "cell_type": "code",
   "execution_count": 16,
   "metadata": {},
   "outputs": [],
   "source": [
    "import numpy as np\n",
    "import pandas as pd\n",
    "\n",
    "from os import listdir\n",
    "from os.path import basename, isfile, join\n",
    "\n",
    "from matplotlib.pyplot import imshow"
   ]
  },
  {
   "cell_type": "code",
   "execution_count": 2,
   "metadata": {},
   "outputs": [],
   "source": [
    "metadata = pd.read_csv(join('data', 'metadata.csv'))"
   ]
  },
  {
   "cell_type": "code",
   "execution_count": 54,
   "metadata": {},
   "outputs": [
    {
     "data": {
      "text/plain": [
       "345"
      ]
     },
     "execution_count": 54,
     "metadata": {},
     "output_type": "execute_result"
    }
   ],
   "source": [
    "%reload_ext autoreload\n",
    "%autoreload 2\n",
    "from DataGenerator import DataGenerator\n",
    "\n",
    "datagen = DataGenerator(metadata, 32)   # locally defined Datagen class specific to Google's QuickDraw\n",
    "datagen.n_classes"
   ]
  },
  {
   "cell_type": "markdown",
   "metadata": {},
   "source": [
    "## Creating the GAN Model:\n",
    "In order to model our GAN, we must define the two sub-models that comprise GANs in general. Collectively, they will learn to create sketches from Google's QuickDraw 28x28 greyscale images.\n",
    "    \n",
    "1. Discriminator - given an input image, determine if the image is real or fake\n",
    "2. Generator - learn how to generate an image which fools the discriminator (so that it cannot distinguish real/fake reliably)\n",
    "    "
   ]
  },
  {
   "cell_type": "code",
   "execution_count": null,
   "metadata": {},
   "outputs": [],
   "source": [
    "from keras.models import Sequential, Model\n",
    "from keras import Input\n",
    "from keras.layers import Dense, Reshape, Flatten, Conv2D, LeakyReLU, Concatenate\n",
    "\n",
    "def discriminator():\n",
    "    dropout=0.4\n",
    "    depth=64\n",
    "    alpha=0.2\n",
    "    \n",
    "    label = Input(shape=(1,))\n",
    "    x = Embedding(345,50)(label)\n",
    "    x = Dense(784)(x)\n",
    "    x = Reshape((28,28,1))(x)\n",
    "    \n",
    "    image = Input(shape=(28,28,1))\n",
    "    \n",
    "    concat = Concatenate()[image,x]\n",
    "    x = Conv2D(1*depth,5,strides=2,padding='same')(concat)\n",
    "    x = Dropout(dropout)(x)\n",
    "    x = LeakyReLU(alpha=alpha)(x)\n",
    "    x = Conv2D(2*depth,5,strides=2,padding='same')(x)\n",
    "    x = Dropout(dropout)(x)\n",
    "    x = LeakyReLU(alpha=alpha)(x)\n",
    "    x = Conv2D(4*depth,5,strides=2,padding='same')(x)\n",
    "    x = Dropout(dropout)(x)\n",
    "    x = LeakyReLU(alpha=alpha)(x)\n",
    "    x = Conv2D(8*depth,5,strides=1,padding='same')(x)\n",
    "    x = Dropout(dropout)(x)\n",
    "    x = LeakyReLU(alpha=alpha)(x)\n",
    "    x = Flatten()(x)\n",
    "    out = Dense(1,activation='sigmoid')(x)\n",
    "    \n",
    "    model = Model(inputs=[image,label], outputs=out)\n",
    "    opt = Adam(lr=0.0002, beta_1=0.5)\n",
    "    model.compile(loss='binary_crossentropy', optimizer=opt, metrics=['accuracy'])\n",
    "    return model"
   ]
  },
  {
   "cell_type": "code",
   "execution_count": null,
   "metadata": {},
   "outputs": [],
   "source": [
    "# JOHN EDITS:\n",
    "# from here on I just kinda wanted to copy code and lay general groundwork for what I anticipate:\n",
    "\n",
    "def generator():\n",
    "    dropout=0.4\n",
    "    depth=32 # FIXME - you mentioned changed depth I think 32?\n",
    "    alpha=0.2\n",
    "\n",
    "    # compile model\n",
    "    model = Model(inputs=[image,label], outputs=out)\n",
    "    opt = Adam(lr=0.0002, beta_1=0.5)\n",
    "    model.compile(loss='binary_crossentropy', optimizer=opt, metrics=['accuracy'])\n",
    "\n",
    "    return model"
   ]
  },
  {
   "cell_type": "code",
   "execution_count": null,
   "metadata": {},
   "outputs": [],
   "source": [
    "# create submodels and compile final GAN\n",
    "discriminator = discriminator()\n",
    "generator = generator()\n",
    "sketchGAN = Model() # yadda yadda"
   ]
  }
 ],
 "metadata": {
  "kernelspec": {
   "display_name": "Neural Networks",
   "language": "python",
   "name": "neural-networks"
  },
  "language_info": {
   "codemirror_mode": {
    "name": "ipython",
    "version": 3
   },
   "file_extension": ".py",
   "mimetype": "text/x-python",
   "name": "python",
   "nbconvert_exporter": "python",
   "pygments_lexer": "ipython3",
   "version": "3.8.5"
  }
 },
 "nbformat": 4,
 "nbformat_minor": 4
}