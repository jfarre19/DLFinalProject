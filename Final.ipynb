{
 "cells": [
  {
   "cell_type": "code",
   "execution_count": 1,
   "metadata": {},
   "outputs": [],
   "source": [
    "import numpy as np\n",
    "import pandas as pd\n",
    "\n",
    "from os import listdir\n",
    "from os.path import basename, isfile, join"
   ]
  },
  {
   "cell_type": "code",
   "execution_count": 12,
   "metadata": {},
   "outputs": [
    {
     "data": {
      "text/html": [
       "<div>\n",
       "<style scoped>\n",
       "    .dataframe tbody tr th:only-of-type {\n",
       "        vertical-align: middle;\n",
       "    }\n",
       "\n",
       "    .dataframe tbody tr th {\n",
       "        vertical-align: top;\n",
       "    }\n",
       "\n",
       "    .dataframe thead th {\n",
       "        text-align: right;\n",
       "    }\n",
       "</style>\n",
       "<table border=\"1\" class=\"dataframe\">\n",
       "  <thead>\n",
       "    <tr style=\"text-align: right;\">\n",
       "      <th></th>\n",
       "      <th>File Name</th>\n",
       "      <th>Class Name</th>\n",
       "      <th>Image Count</th>\n",
       "    </tr>\n",
       "  </thead>\n",
       "  <tbody>\n",
       "    <tr>\n",
       "      <th>0</th>\n",
       "      <td>data/drill.npy</td>\n",
       "      <td>drill</td>\n",
       "      <td>136786</td>\n",
       "    </tr>\n",
       "    <tr>\n",
       "      <th>1</th>\n",
       "      <td>data/pool.npy</td>\n",
       "      <td>pool</td>\n",
       "      <td>133439</td>\n",
       "    </tr>\n",
       "    <tr>\n",
       "      <th>2</th>\n",
       "      <td>data/hexagon.npy</td>\n",
       "      <td>hexagon</td>\n",
       "      <td>142435</td>\n",
       "    </tr>\n",
       "    <tr>\n",
       "      <th>3</th>\n",
       "      <td>data/ice cream.npy</td>\n",
       "      <td>ice cream</td>\n",
       "      <td>123133</td>\n",
       "    </tr>\n",
       "    <tr>\n",
       "      <th>4</th>\n",
       "      <td>data/carrot.npy</td>\n",
       "      <td>carrot</td>\n",
       "      <td>132459</td>\n",
       "    </tr>\n",
       "    <tr>\n",
       "      <th>...</th>\n",
       "      <td>...</td>\n",
       "      <td>...</td>\n",
       "      <td>...</td>\n",
       "    </tr>\n",
       "    <tr>\n",
       "      <th>340</th>\n",
       "      <td>data/telephone.npy</td>\n",
       "      <td>telephone</td>\n",
       "      <td>127885</td>\n",
       "    </tr>\n",
       "    <tr>\n",
       "      <th>341</th>\n",
       "      <td>data/river.npy</td>\n",
       "      <td>river</td>\n",
       "      <td>133271</td>\n",
       "    </tr>\n",
       "    <tr>\n",
       "      <th>342</th>\n",
       "      <td>data/zigzag.npy</td>\n",
       "      <td>zigzag</td>\n",
       "      <td>120072</td>\n",
       "    </tr>\n",
       "    <tr>\n",
       "      <th>343</th>\n",
       "      <td>data/hat.npy</td>\n",
       "      <td>hat</td>\n",
       "      <td>222610</td>\n",
       "    </tr>\n",
       "    <tr>\n",
       "      <th>344</th>\n",
       "      <td>data/bear.npy</td>\n",
       "      <td>bear</td>\n",
       "      <td>134762</td>\n",
       "    </tr>\n",
       "  </tbody>\n",
       "</table>\n",
       "<p>345 rows × 3 columns</p>\n",
       "</div>"
      ],
      "text/plain": [
       "              File Name Class Name  Image Count\n",
       "0        data/drill.npy      drill       136786\n",
       "1         data/pool.npy       pool       133439\n",
       "2      data/hexagon.npy    hexagon       142435\n",
       "3    data/ice cream.npy  ice cream       123133\n",
       "4       data/carrot.npy     carrot       132459\n",
       "..                  ...        ...          ...\n",
       "340  data/telephone.npy  telephone       127885\n",
       "341      data/river.npy      river       133271\n",
       "342     data/zigzag.npy     zigzag       120072\n",
       "343        data/hat.npy        hat       222610\n",
       "344       data/bear.npy       bear       134762\n",
       "\n",
       "[345 rows x 3 columns]"
      ]
     },
     "execution_count": 12,
     "metadata": {},
     "output_type": "execute_result"
    }
   ],
   "source": [
    "metadata = pd.read_csv(join('data', 'metadata.csv'))\n",
    "metadata"
   ]
  },
  {
   "cell_type": "code",
   "execution_count": 45,
   "metadata": {},
   "outputs": [
    {
     "data": {
      "text/plain": [
       "(118114, 784)"
      ]
     },
     "execution_count": 45,
     "metadata": {},
     "output_type": "execute_result"
    }
   ],
   "source": [
    "data = np.load('data/bat.npy', mmap_mode='r')"
   ]
  },
  {
   "cell_type": "code",
   "execution_count": 56,
   "metadata": {},
   "outputs": [
    {
     "data": {
      "text/plain": [
       "784"
      ]
     },
     "execution_count": 56,
     "metadata": {},
     "output_type": "execute_result"
    }
   ],
   "source": [
    "image = np.zeros(784)\n",
    "image[:] = data[0][0]\n",
    "data[0].shape[1]"
   ]
  },
  {
   "cell_type": "code",
   "execution_count": 74,
   "metadata": {},
   "outputs": [
    {
     "data": {
      "text/plain": [
       "[array([[0.39060065, 0.16652324, 0.88475379],\n",
       "        [0.24948943, 0.94159072, 0.84889919],\n",
       "        [0.42741121, 0.95396116, 0.24729562],\n",
       "        [0.33231242, 0.58873905, 0.45828493],\n",
       "        [0.48869594, 0.56932537, 0.25576275],\n",
       "        [0.28818519, 0.46445471, 0.38454306],\n",
       "        [0.89386452, 0.41782397, 0.15634985],\n",
       "        [0.87942766, 0.17844109, 0.59297664],\n",
       "        [0.16657688, 0.65783166, 0.5834018 ],\n",
       "        [0.05482712, 0.94339731, 0.61702506]]),\n",
       " array([[0.69392878, 0.56849453, 0.44385202],\n",
       "        [0.69012261, 0.53105313, 0.08851677],\n",
       "        [0.83772191, 0.26538529, 0.9081723 ],\n",
       "        [0.91756469, 0.16368993, 0.80635139],\n",
       "        [0.33939133, 0.29861488, 0.88135504],\n",
       "        [0.1909979 , 0.17917776, 0.10539897],\n",
       "        [0.12918532, 0.69602445, 0.75020075]])]"
      ]
     },
     "execution_count": 74,
     "metadata": {},
     "output_type": "execute_result"
    }
   ],
   "source": [
    "data = []\n",
    "data.append(np.random.rand(10,3))\n",
    "data.append(np.random.rand(7,3))\n",
    "data"
   ]
  },
  {
   "cell_type": "code",
   "execution_count": 75,
   "metadata": {},
   "outputs": [],
   "source": [
    "counts = [10,7]\n",
    "total = sum(counts)\n",
    "labels = np.zeros(total, dtype=np.int64)\n",
    "order = np.arange(total, dtype=np.int64)\n",
    "idxs = np.zeros(total, dtype=np.int64)\n",
    "\n",
    "start = 0\n",
    "for idx,count in enumerate(counts):\n",
    "    labels[start:start+count] = idx\n",
    "    idxs[start:start+count] = np.arange(count)\n",
    "    start += count\n",
    "\n",
    "np.random.shuffle(order)\n",
    "labels = labels[order]\n",
    "idxs = idxs[order]"
   ]
  },
  {
   "cell_type": "code",
   "execution_count": 76,
   "metadata": {},
   "outputs": [
    {
     "name": "stdout",
     "output_type": "stream",
     "text": [
      "[0.33231242 0.58873905 0.45828493] 0 3\n",
      "[0.69392878 0.56849453 0.44385202] 1 0\n",
      "[0.48869594 0.56932537 0.25576275] 0 4\n",
      "[0.42741121 0.95396116 0.24729562] 0 2\n",
      "[0.24948943 0.94159072 0.84889919] 0 1\n",
      "[0.1909979  0.17917776 0.10539897] 1 5\n",
      "[0.87942766 0.17844109 0.59297664] 0 7\n",
      "[0.69012261 0.53105313 0.08851677] 1 1\n",
      "[0.28818519 0.46445471 0.38454306] 0 5\n",
      "[0.39060065 0.16652324 0.88475379] 0 0\n"
     ]
    }
   ],
   "source": [
    "X = np.zeros((10,3))\n",
    "labels = labels[:10]\n",
    "idxs = idxs[:10]\n",
    "\n",
    "for idx in range(10):\n",
    "    X[idx,:] = data[labels[idx]][idxs[idx],:]\n",
    "    print(X[idx,:], labels[idx], idxs[idx])"
   ]
  },
  {
   "cell_type": "code",
   "execution_count": 69,
   "metadata": {},
   "outputs": [
    {
     "data": {
      "text/plain": [
       "array([[1., 1., 1., ..., 1., 1., 1.],\n",
       "       [0., 0., 0., ..., 0., 0., 0.],\n",
       "       [1., 1., 1., ..., 1., 1., 1.],\n",
       "       ...,\n",
       "       [1., 1., 1., ..., 1., 1., 1.],\n",
       "       [1., 1., 1., ..., 1., 1., 1.],\n",
       "       [0., 0., 0., ..., 0., 0., 0.]])"
      ]
     },
     "execution_count": 69,
     "metadata": {},
     "output_type": "execute_result"
    }
   ],
   "source": []
  },
  {
   "cell_type": "code",
   "execution_count": null,
   "metadata": {},
   "outputs": [],
   "source": [
    "from tf.keras.utils import Sequence\n",
    "from math import floor\n",
    "\n",
    "class DataGenerator(Sequence):\n",
    "    def __init__(self, metadata, batch_size):\n",
    "        self.metadata = metadata\n",
    "        self.batch_size = batch_size\n",
    "        \n",
    "        self.n_classes = self.metadata.shape[0]\n",
    "        \n",
    "        self.n_images = sum(self.metadata['Image Count'])\n",
    "        \n",
    "        self.indexes = np.zeros(self.n_images, dtype=np.int64)\n",
    "        self.classes = np.zeros(self.n_images, dtype=np.int64)\n",
    "        start = 0\n",
    "        for idx,row in self.metadata.iterrows():\n",
    "            count = row['Image Count']\n",
    "            \n",
    "            self.indexes[start:start+count] = np.arange(count)\n",
    "            self.classes[start:start+count] = idx\n",
    "            \n",
    "            start += count\n",
    "            \n",
    "        order = np.arange(self.n_images, dtype=np.int64)\n",
    "        np.random.shuffle(order)\n",
    "        \n",
    "        self.indexes = self.indexes[order]\n",
    "        self.classes = self.classes[order]\n",
    "        \n",
    "        self.data = []\n",
    "        for file in self.metadata['File Name']:\n",
    "            self.data.append(np.load(file, mmap_mode='r'))\n",
    "        \n",
    "        self.size = self.data[0].shape[1]\n",
    "            \n",
    "        \n",
    "    def __len__(self):\n",
    "        return floor(self.n_images / self.batch_size)\n",
    "    \n",
    "    def __getitem__(self, idx):\n",
    "        start = idx * self.batch_size\n",
    "        end = (idx+1) * self.batch_size\n",
    "        \n",
    "        indexes = self.indexes[start:end]\n",
    "        classes = self.classes[start:end]\n",
    "        \n",
    "        X = np.zeros((self.batch_size,self.size))\n",
    "        y = classes\n",
    "        \n",
    "        for idx in range(self.batch_size):\n",
    "            X[idx,:] = data[classes[idx]][indexes[idx],:]\n",
    "        \n",
    "        return X,y\n",
    "        \n",
    "        \n",
    "        \n",
    "        "
   ]
  }
 ],
 "metadata": {
  "kernelspec": {
   "display_name": "Neural Networks",
   "language": "python",
   "name": "neural-networks"
  },
  "language_info": {
   "codemirror_mode": {
    "name": "ipython",
    "version": 3
   },
   "file_extension": ".py",
   "mimetype": "text/x-python",
   "name": "python",
   "nbconvert_exporter": "python",
   "pygments_lexer": "ipython3",
   "version": "3.8.5"
  }
 },
 "nbformat": 4,
 "nbformat_minor": 4
}
