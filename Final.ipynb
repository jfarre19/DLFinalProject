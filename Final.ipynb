{
 "cells": [
  {
   "cell_type": "markdown",
   "metadata": {},
   "source": [
    "# Google's Quick Draw Dataset and GANs\n",
    "## Lawton Manning, John Farrell, and Liyao Zhang"
   ]
  },
  {
   "cell_type": "markdown",
   "metadata": {},
   "source": [
    "*Before running this Notebook:* <br> Make sure to download the QuickDraw files corresponding to the '.npy' filetype.\n",
    "\n",
    "More information on Google's Quick Draw dataset found in their repository here: https://github.com/googlecreativelab/quickdraw-dataset "
   ]
  },
  {
   "cell_type": "markdown",
   "metadata": {},
   "source": [
    "## Preliminary Data Prep:"
   ]
  },
  {
   "cell_type": "code",
   "execution_count": 16,
   "metadata": {},
   "outputs": [],
   "source": [
    "import numpy as np\n",
    "import pandas as pd\n",
    "\n",
    "from os import listdir\n",
    "from os.path import basename, isfile, join\n",
    "\n",
    "from matplotlib.pyplot import imshow"
   ]
  },
  {
   "cell_type": "code",
   "execution_count": 2,
   "metadata": {},
   "outputs": [],
   "source": [
    "metadata = pd.read_csv(join('data', 'metadata.csv'))"
   ]
  },
  {
   "cell_type": "code",
   "execution_count": 54,
   "metadata": {},
   "outputs": [
    {
     "data": {
      "text/plain": [
       "345"
      ]
     },
     "execution_count": 54,
     "metadata": {},
     "output_type": "execute_result"
    }
   ],
   "source": [
    "%reload_ext autoreload\n",
    "%autoreload 2\n",
    "from DataGenerator import DataGenerator\n",
    "\n",
    "datagen = DataGenerator(metadata, 32)   # locally defined Datagen class specific to Google's QuickDraw\n",
    "datagen.n_classes"
   ]
  },
  {
   "cell_type": "markdown",
   "metadata": {},
   "source": [
    "## Creating the GAN Model:\n",
    "In order to model our GAN, we must define the two sub-models that comprise GANs in general. Collectively, they will learn to create sketches from Google's QuickDraw 28x28 greyscale images.\n",
    "    \n",
    "1. Discriminator - given an input image, determine if the image is real or fake\n",
    "2. Generator - learn how to generate an image which fools the discriminator (so that it cannot distinguish real/fake reliably)\n",
    "    "
   ]
  },
  {
   "cell_type": "code",
   "execution_count": 86,
   "metadata": {},
   "outputs": [],
   "source": [
    "from keras.models import Sequential, Model\n",
    "from keras import Input\n",
    "from keras.layers import Dense\n",
    "from keras.layers import Reshape, Flatten\n",
    "from keras.layers import Conv2D, Conv2DTranspose, UpSampling2D\n",
    "from keras.layers import LeakyReLU, BatchNormalization, Dropout\n",
    "from keras.layers import Embedding\n",
    "\n",
    "from keras.optimizers import Adam\n",
    "\n",
    "def discriminator():\n",
    "    dropout=0.4\n",
    "    depth=64\n",
    "    alpha=0.2\n",
    "    \n",
    "    label = Input(shape=(1,))\n",
    "    x = Embedding(345,50)(label)\n",
    "    x = Dense(784)(x)\n",
    "    l = Reshape((28,28,1))(x)\n",
    "    \n",
    "    image = Input(shape=(28,28,1))\n",
    "    \n",
    "    concat = Concatenate()([image,l])\n",
    "    x = Conv2D(1*depth,5,strides=2,padding='same')(concat)\n",
    "    x = Dropout(dropout)(x)\n",
    "    x = LeakyReLU(alpha=alpha)(x)\n",
    "    x = Conv2D(2*depth,5,strides=2,padding='same')(x)\n",
    "    x = Dropout(dropout)(x)\n",
    "    x = LeakyReLU(alpha=alpha)(x)\n",
    "    x = Conv2D(4*depth,5,strides=2,padding='same')(x)\n",
    "    x = Dropout(dropout)(x)\n",
    "    x = LeakyReLU(alpha=alpha)(x)\n",
    "    x = Conv2D(8*depth,5,strides=1,padding='same')(x)\n",
    "    x = Dropout(dropout)(x)\n",
    "    x = LeakyReLU(alpha=alpha)(x)\n",
    "    x = Flatten()(x)\n",
    "    out = Dense(1,activation='sigmoid')(x)\n",
    "    \n",
    "    model = Model(inputs=[image,label], outputs=out)\n",
    "    opt = Adam(lr=0.0002, beta_1=0.5)\n",
    "    model.compile(loss='binary_crossentropy', optimizer=opt, metrics=['accuracy'])\n",
    "    return model\n",
    "\n",
    "def generator():\n",
    "    dropout=0.4\n",
    "    depth=32\n",
    "    alpha=0.2\n",
    "    \n",
    "    label = Input(shape=(1,))\n",
    "    x = Embedding(345,50)(label)\n",
    "    x = Dense(49)(x)\n",
    "    l = Reshape((7,7,1))(x)\n",
    "    \n",
    "    \n",
    "    z = Input(shape=(100,))\n",
    "    x = Dense((8*depth-1)*49)(z)\n",
    "    x = BatchNormalization(momentum=0.9)(x)\n",
    "    x = LeakyReLU(alpha=alpha)(x)\n",
    "    x = Dropout(dropout)(x)\n",
    "    image = Reshape((7,7,8*depth-1))(x)\n",
    "    \n",
    "    concat = Concatenate()([image,l])\n",
    "    x = UpSampling2D()(concat)\n",
    "    x = Conv2DTranspose(4*depth,5,padding='same')(x)\n",
    "    x = BatchNormalization(momentum=0.9)(x)\n",
    "    x = LeakyReLU(alpha=alpha)(x)\n",
    "    x = UpSampling2D()(x)\n",
    "    x = Conv2DTranspose(2*depth,5,padding='same')(x)\n",
    "    x = BatchNormalization(momentum=0.9)(x)\n",
    "    x = LeakyReLU(alpha=alpha)(x)\n",
    "    x = Conv2DTranspose(1*depth,5,padding='same')(x)\n",
    "    x = BatchNormalization(momentum=0.9)(x)\n",
    "    x = LeakyReLU(alpha=alpha)(x)\n",
    "    out = Conv2DTranspose(1,5,padding='same',activation='sigmoid')(x)\n",
    "    \n",
    "    model = Model(inputs=[z,label], outputs=out)\n",
    "    opt = Adam(lr=0.0002, beta_1=0.5)\n",
    "    model.compile(loss='binary_crossentropy', optimizer=opt, metrics=['accuracy'])\n",
    "    return model"
   ]
  },
  {
   "cell_type": "code",
   "execution_count": 87,
   "metadata": {},
   "outputs": [
    {
     "name": "stdout",
     "output_type": "stream",
     "text": [
      "Model: \"functional_25\"\n",
      "__________________________________________________________________________________________________\n",
      "Layer (type)                    Output Shape         Param #     Connected to                     \n",
      "==================================================================================================\n",
      "input_36 (InputLayer)           [(None, 1)]          0                                            \n",
      "__________________________________________________________________________________________________\n",
      "embedding_17 (Embedding)        (None, 1, 50)        17250       input_36[0][0]                   \n",
      "__________________________________________________________________________________________________\n",
      "dense_30 (Dense)                (None, 1, 784)       39984       embedding_17[0][0]               \n",
      "__________________________________________________________________________________________________\n",
      "input_37 (InputLayer)           [(None, 28, 28, 1)]  0                                            \n",
      "__________________________________________________________________________________________________\n",
      "reshape_20 (Reshape)            (None, 28, 28, 1)    0           dense_30[0][0]                   \n",
      "__________________________________________________________________________________________________\n",
      "concatenate_16 (Concatenate)    (None, 28, 28, 2)    0           input_37[0][0]                   \n",
      "                                                                 reshape_20[0][0]                 \n",
      "__________________________________________________________________________________________________\n",
      "conv2d_38 (Conv2D)              (None, 14, 14, 64)   3264        concatenate_16[0][0]             \n",
      "__________________________________________________________________________________________________\n",
      "dropout_39 (Dropout)            (None, 14, 14, 64)   0           conv2d_38[0][0]                  \n",
      "__________________________________________________________________________________________________\n",
      "leaky_re_lu_49 (LeakyReLU)      (None, 14, 14, 64)   0           dropout_39[0][0]                 \n",
      "__________________________________________________________________________________________________\n",
      "conv2d_39 (Conv2D)              (None, 7, 7, 128)    204928      leaky_re_lu_49[0][0]             \n",
      "__________________________________________________________________________________________________\n",
      "dropout_40 (Dropout)            (None, 7, 7, 128)    0           conv2d_39[0][0]                  \n",
      "__________________________________________________________________________________________________\n",
      "leaky_re_lu_50 (LeakyReLU)      (None, 7, 7, 128)    0           dropout_40[0][0]                 \n",
      "__________________________________________________________________________________________________\n",
      "conv2d_40 (Conv2D)              (None, 4, 4, 256)    819456      leaky_re_lu_50[0][0]             \n",
      "__________________________________________________________________________________________________\n",
      "dropout_41 (Dropout)            (None, 4, 4, 256)    0           conv2d_40[0][0]                  \n",
      "__________________________________________________________________________________________________\n",
      "leaky_re_lu_51 (LeakyReLU)      (None, 4, 4, 256)    0           dropout_41[0][0]                 \n",
      "__________________________________________________________________________________________________\n",
      "conv2d_41 (Conv2D)              (None, 4, 4, 512)    3277312     leaky_re_lu_51[0][0]             \n",
      "__________________________________________________________________________________________________\n",
      "dropout_42 (Dropout)            (None, 4, 4, 512)    0           conv2d_41[0][0]                  \n",
      "__________________________________________________________________________________________________\n",
      "leaky_re_lu_52 (LeakyReLU)      (None, 4, 4, 512)    0           dropout_42[0][0]                 \n",
      "__________________________________________________________________________________________________\n",
      "flatten_9 (Flatten)             (None, 8192)         0           leaky_re_lu_52[0][0]             \n",
      "__________________________________________________________________________________________________\n",
      "dense_31 (Dense)                (None, 1)            8193        flatten_9[0][0]                  \n",
      "==================================================================================================\n",
      "Total params: 4,370,387\n",
      "Trainable params: 4,370,387\n",
      "Non-trainable params: 0\n",
      "__________________________________________________________________________________________________\n"
     ]
    }
   ],
   "source": []
  },
  {
   "cell_type": "code",
   "execution_count": 88,
   "metadata": {},
   "outputs": [
    {
     "name": "stdout",
     "output_type": "stream",
     "text": [
      "Model: \"functional_27\"\n",
      "__________________________________________________________________________________________________\n",
      "Layer (type)                    Output Shape         Param #     Connected to                     \n",
      "==================================================================================================\n",
      "input_39 (InputLayer)           [(None, 100)]        0                                            \n",
      "__________________________________________________________________________________________________\n",
      "dense_33 (Dense)                (None, 12495)        1261995     input_39[0][0]                   \n",
      "__________________________________________________________________________________________________\n",
      "batch_normalization_13 (BatchNo (None, 12495)        49980       dense_33[0][0]                   \n",
      "__________________________________________________________________________________________________\n",
      "input_38 (InputLayer)           [(None, 1)]          0                                            \n",
      "__________________________________________________________________________________________________\n",
      "leaky_re_lu_53 (LeakyReLU)      (None, 12495)        0           batch_normalization_13[0][0]     \n",
      "__________________________________________________________________________________________________\n",
      "embedding_18 (Embedding)        (None, 1, 50)        17250       input_38[0][0]                   \n",
      "__________________________________________________________________________________________________\n",
      "dropout_43 (Dropout)            (None, 12495)        0           leaky_re_lu_53[0][0]             \n",
      "__________________________________________________________________________________________________\n",
      "dense_32 (Dense)                (None, 1, 49)        2499        embedding_18[0][0]               \n",
      "__________________________________________________________________________________________________\n",
      "reshape_22 (Reshape)            (None, 7, 7, 255)    0           dropout_43[0][0]                 \n",
      "__________________________________________________________________________________________________\n",
      "reshape_21 (Reshape)            (None, 7, 7, 1)      0           dense_32[0][0]                   \n",
      "__________________________________________________________________________________________________\n",
      "concatenate_17 (Concatenate)    (None, 7, 7, 256)    0           reshape_22[0][0]                 \n",
      "                                                                 reshape_21[0][0]                 \n",
      "__________________________________________________________________________________________________\n",
      "up_sampling2d_3 (UpSampling2D)  (None, 14, 14, 256)  0           concatenate_17[0][0]             \n",
      "__________________________________________________________________________________________________\n",
      "conv2d_transpose_12 (Conv2DTran (None, 14, 14, 128)  819328      up_sampling2d_3[0][0]            \n",
      "__________________________________________________________________________________________________\n",
      "batch_normalization_14 (BatchNo (None, 14, 14, 128)  512         conv2d_transpose_12[0][0]        \n",
      "__________________________________________________________________________________________________\n",
      "leaky_re_lu_54 (LeakyReLU)      (None, 14, 14, 128)  0           batch_normalization_14[0][0]     \n",
      "__________________________________________________________________________________________________\n",
      "up_sampling2d_4 (UpSampling2D)  (None, 28, 28, 128)  0           leaky_re_lu_54[0][0]             \n",
      "__________________________________________________________________________________________________\n",
      "conv2d_transpose_13 (Conv2DTran (None, 28, 28, 64)   204864      up_sampling2d_4[0][0]            \n",
      "__________________________________________________________________________________________________\n",
      "batch_normalization_15 (BatchNo (None, 28, 28, 64)   256         conv2d_transpose_13[0][0]        \n",
      "__________________________________________________________________________________________________\n",
      "leaky_re_lu_55 (LeakyReLU)      (None, 28, 28, 64)   0           batch_normalization_15[0][0]     \n",
      "__________________________________________________________________________________________________\n",
      "conv2d_transpose_14 (Conv2DTran (None, 28, 28, 32)   51232       leaky_re_lu_55[0][0]             \n",
      "__________________________________________________________________________________________________\n",
      "batch_normalization_16 (BatchNo (None, 28, 28, 32)   128         conv2d_transpose_14[0][0]        \n",
      "__________________________________________________________________________________________________\n",
      "leaky_re_lu_56 (LeakyReLU)      (None, 28, 28, 32)   0           batch_normalization_16[0][0]     \n",
      "__________________________________________________________________________________________________\n",
      "conv2d_transpose_15 (Conv2DTran (None, 28, 28, 1)    801         leaky_re_lu_56[0][0]             \n",
      "==================================================================================================\n",
      "Total params: 2,408,845\n",
      "Trainable params: 2,383,407\n",
      "Non-trainable params: 25,438\n",
      "__________________________________________________________________________________________________\n"
     ]
    }
   ],
   "source": [
    "model = generator()\n",
    "model.summary()"
   ]
  },
  {
   "cell_type": "code",
   "execution_count": null,
   "metadata": {},
   "outputs": [],
   "source": []
  }
 ],
 "metadata": {
  "kernelspec": {
   "display_name": "Neural Networks",
   "language": "python",
   "name": "neural-networks"
  },
  "language_info": {
   "codemirror_mode": {
    "name": "ipython",
    "version": 3
   },
   "file_extension": ".py",
   "mimetype": "text/x-python",
   "name": "python",
   "nbconvert_exporter": "python",
   "pygments_lexer": "ipython3",
   "version": "3.8.5"
  }
 },
 "nbformat": 4,
 "nbformat_minor": 4
}
