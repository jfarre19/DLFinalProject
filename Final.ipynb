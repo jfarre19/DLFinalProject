{
 "cells": [
  {
   "cell_type": "code",
   "execution_count": null,
   "metadata": {},
   "outputs": [],
   "source": [
    "import numpy as np\n",
    "import pandas as pd\n",
    "\n",
    "from os import listdir\n",
    "from os.path import basename, isfile, join"
   ]
  },
  {
   "cell_type": "code",
   "execution_count": null,
   "metadata": {},
   "outputs": [],
   "source": [
    "files = [join('data', f) for f in listdir('data') if isfile(join('data', f))]\n",
    "classes = [basename(f)[:-4] for f in files]\n",
    "counts = [np.load(f).shape[0] for f in files]"
   ]
  },
  {
   "cell_type": "code",
   "execution_count": null,
   "metadata": {},
   "outputs": [],
   "source": [
    "metadata = {'File Name' : files, 'Class Name': classes, 'Image Count' : counts}\n",
    "metadata = pd.DataFrame(metadata)"
   ]
  },
  {
   "cell_type": "code",
   "execution_count": null,
   "metadata": {},
   "outputs": [],
   "source": [
    "metadata"
   ]
  },
  {
   "cell_type": "code",
   "execution_count": null,
   "metadata": {},
   "outputs": [],
   "source": [
    "from tf.keras.utils import Sequence\n",
    "from math import ceil\n",
    "\n",
    "class DataGenerator(Sequence):\n",
    "    def __init__(self, files, batch_size):\n",
    "        self.files = files\n",
    "        self.n_classes = len(files)\n",
    "        self.batch_size = batch_size\n",
    "        \n",
    "        \n",
    "        self.n_images_per_file = np.zeros(len(files))\n",
    "        for idx,file in enumerate(files):\n",
    "            self.n_images_per_file[idx] = np.load(file).shape[0]\n",
    "        \n",
    "        self.n_images = np.sum(self.n_images_per_file)\n",
    "        \n",
    "        \n",
    "    def __len__(self):\n",
    "        return ceil(self.n_images / self.batch_size)\n",
    "    \n",
    "    def __getitem__(self, idx):\n",
    "        start = idx * self.batch_size\n",
    "        end = min((idx+1) * self.batch_size, self.n_images)\n",
    "        "
   ]
  }
 ],
 "metadata": {
  "kernelspec": {
   "display_name": "Neural Networks",
   "language": "python",
   "name": "neural-networks"
  },
  "language_info": {
   "codemirror_mode": {
    "name": "ipython",
    "version": 3
   },
   "file_extension": ".py",
   "mimetype": "text/x-python",
   "name": "python",
   "nbconvert_exporter": "python",
   "pygments_lexer": "ipython3",
   "version": "3.8.5"
  }
 },
 "nbformat": 4,
 "nbformat_minor": 4
}
