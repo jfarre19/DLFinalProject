{
 "cells": [
  {
   "cell_type": "markdown",
   "metadata": {},
   "source": [
    "# Google's Quick Draw Dataset and GANs\n",
    "## Lawton Manning, John Farrell, and Liyao Zhang"
   ]
  },
  {
   "cell_type": "markdown",
   "metadata": {},
   "source": [
    "*Before running this Notebook:* <br> Make sure to download the QuickDraw files corresponding to the '.npy' filetype.\n",
    "\n",
    "More information on Google's Quick Draw dataset found in their repository here: https://github.com/googlecreativelab/quickdraw-dataset "
   ]
  },
  {
   "cell_type": "markdown",
   "metadata": {},
   "source": [
    "## Loading the Data:"
   ]
  },
  {
   "cell_type": "code",
   "execution_count": 1,
   "metadata": {},
   "outputs": [],
   "source": [
    "import numpy as np\n",
    "import pandas as pd\n",
    "\n",
    "from os import listdir\n",
    "from os.path import basename, isfile, join\n",
    "\n",
    "from matplotlib.pyplot import imshow"
   ]
  },
  {
   "cell_type": "code",
   "execution_count": 2,
   "metadata": {},
   "outputs": [],
   "source": [
    "metadata = pd.read_csv(join('data', 'metadata.csv'))"
   ]
  },
  {
   "cell_type": "code",
   "execution_count": 3,
   "metadata": {},
   "outputs": [
    {
     "data": {
      "text/plain": [
       "16"
      ]
     },
     "execution_count": 3,
     "metadata": {},
     "output_type": "execute_result"
    }
   ],
   "source": [
    "%reload_ext autoreload\n",
    "%autoreload 2\n",
    "from DataGenerator import DataGenerator\n",
    "\n",
    "datagen = DataGenerator(metadata, 32)   # locally defined Datagen class specific to Google's QuickDraw\n",
    "datagen.n_classes"
   ]
  },
  {
   "cell_type": "markdown",
   "metadata": {},
   "source": [
    "## Creating the GAN Model:\n",
    "In order to model our GAN, we must define the two sub-models that comprise GANs in general. Collectively, they will learn to create sketches from Google's QuickDraw 28x28 greyscale images.\n",
    "    \n",
    "1. Discriminator - given an input image, determine if the image is real or fake\n",
    "2. Generator - learn how to generate an image which fools the discriminator (so that it cannot distinguish real/fake reliably)\n",
    "    "
   ]
  },
  {
   "cell_type": "code",
   "execution_count": null,
   "metadata": {},
   "outputs": [
    {
     "name": "stdout",
     "output_type": "stream",
     "text": [
      ">1, 1/500, d1=4.031, d2=0.720 g=0.653\n",
      ">2, 1/500, d1=0.000, d2=0.000 g=9.899\n",
      ">3, 1/500, d1=0.000, d2=0.000 g=12.584\n",
      ">4, 1/500, d1=0.000, d2=0.000 g=13.562\n",
      ">5, 1/500, d1=0.000, d2=0.000 g=14.498\n",
      ">6, 1/500, d1=0.000, d2=0.000 g=15.292\n",
      ">7, 1/500, d1=0.000, d2=0.000 g=16.053\n",
      ">8, 1/500, d1=0.000, d2=0.000 g=16.951\n",
      ">9, 1/500, d1=0.000, d2=0.000 g=17.688\n"
     ]
    }
   ],
   "source": [
    "from GAN import GAN\n",
    "\n",
    "gan = GAN(datagen)\n",
    "gan.train(epochs=20)"
   ]
  },
  {
   "cell_type": "markdown",
   "metadata": {},
   "source": [
    "## Visualizing Results"
   ]
  },
  {
   "cell_type": "markdown",
   "metadata": {},
   "source": [
    "### Generator Images"
   ]
  },
  {
   "cell_type": "code",
   "execution_count": 1,
   "metadata": {},
   "outputs": [
    {
     "name": "stdout",
     "output_type": "stream",
     "text": [
      "WARNING:tensorflow:No training configuration found in the save file, so the model was *not* compiled. Compile it manually.\n"
     ]
    }
   ],
   "source": [
    "import numpy as np\n",
    "import tensorflow as tf\n",
    "from tensorflow import keras\n",
    "generator = keras.models.load_model('cgan_generator.h5')"
   ]
  },
  {
   "cell_type": "code",
   "execution_count": 2,
   "metadata": {},
   "outputs": [],
   "source": [
    "# randomly generate latent space for generator input\n",
    "def gen_latent_space(latent_dim, batch_size):\n",
    "    x_input = np.random.randn(latent_dim * batch_size)\n",
    "    x_input = x_input.reshape(batch_size, latent_dim)\n",
    "    return x_input"
   ]
  },
  {
   "cell_type": "code",
   "execution_count": 3,
   "metadata": {},
   "outputs": [],
   "source": [
    "import matplotlib.pyplot as plt\n",
    "def grid_images(imgs):\n",
    "    n_row = 4\n",
    "    n_col = 4\n",
    "    _, axs = plt.subplots(n_row, n_col, figsize=(12, 12))\n",
    "    axs = axs.flatten()\n",
    "    for img, ax in zip(imgs, axs):\n",
    "        ax.imshow(img, cmap='gray')\n",
    "    plt.show()"
   ]
  },
  {
   "cell_type": "code",
   "execution_count": 4,
   "metadata": {},
   "outputs": [],
   "source": [
    "total_categories = 16\n",
    "latent_dim = 100\n",
    "\n",
    "def gen_results(model):\n",
    "    # generate random latent space\n",
    "    latent_space = gen_latent_space(latent_dim, total_categories)\n",
    "    labels_range = np.arange(0, total_categories)\n",
    "    \n",
    "    # feed into generator to predict one image for each category\n",
    "    X = model.predict([latent_space, labels_range])\n",
    "    imgs = np.squeeze(X)\n",
    "    grid_images(imgs)\n",
    "    \n",
    "    return (X, labels_range)"
   ]
  },
  {
   "cell_type": "code",
   "execution_count": 5,
   "metadata": {},
   "outputs": [
    {
     "data": {
      "image/png": "[encoded data removed]",
      "text/plain": [
       "<Figure size 864x864 with 16 Axes>"
      ]
     },
     "metadata": {
      "needs_background": "light"
     },
     "output_type": "display_data"
    }
   ],
   "source": [
    "[X_fake, labels_fake] = gen_results(generator)"
   ]
  },
  {
   "cell_type": "markdown",
   "metadata": {},
   "source": [
    "### Discriminator Results:"
   ]
  },
  {
   "cell_type": "code",
   "execution_count": 6,
   "metadata": {},
   "outputs": [
    {
     "name": "stdout",
     "output_type": "stream",
     "text": [
      "WARNING:tensorflow:Error in loading the saved optimizer state. As a result, your model is starting with a freshly initialized optimizer.\n"
     ]
    }
   ],
   "source": [
    "discriminator = keras.models.load_model('cgan_discriminator.h5')"
   ]
  },
  {
   "cell_type": "code",
   "execution_count": 7,
   "metadata": {},
   "outputs": [],
   "source": [
    "y_fake = np.zeros((16, 1))\n",
    "loss, _ = discriminator.train_on_batch([X_fake, labels_fake], y_fake)"
   ]
  },
  {
   "cell_type": "code",
   "execution_count": 8,
   "metadata": {},
   "outputs": [
    {
     "name": "stdout",
     "output_type": "stream",
     "text": [
      "1.263623571284931e-14\n"
     ]
    }
   ],
   "source": [
    "print(loss)"
   ]
  },
  {
   "cell_type": "markdown",
   "metadata": {},
   "source": [
    "### GAN results:"
   ]
  },
  {
   "cell_type": "code",
   "execution_count": 18,
   "metadata": {},
   "outputs": [],
   "source": [
    "gan_model = keras.models.load_model('cgan_GAN.h5')"
   ]
  },
  {
   "cell_type": "code",
   "execution_count": 16,
   "metadata": {},
   "outputs": [],
   "source": [
    "latent_space = gen_latent_space(100, 16)\n",
    "\n",
    "# create inverted labels for the fake samples\n",
    "y_gan = np.ones((16, 1))\n",
    "\n",
    "# update the generator via the discriminator's error\n",
    "g_loss = gan_model.train_on_batch([latent_space, labels_fake], y_gan)"
   ]
  },
  {
   "cell_type": "code",
   "execution_count": 17,
   "metadata": {},
   "outputs": [
    {
     "data": {
      "text/plain": [
       "34.819908142089844"
      ]
     },
     "execution_count": 17,
     "metadata": {},
     "output_type": "execute_result"
    }
   ],
   "source": [
    "g_loss"
   ]
  }
 ],
 "metadata": {
  "kernelspec": {
   "display_name": "Python 3",
   "language": "python",
   "name": "python3"
  },
  "language_info": {
   "codemirror_mode": {
    "name": "ipython",
    "version": 3
   },
   "file_extension": ".py",
   "mimetype": "text/x-python",
   "name": "python",
   "nbconvert_exporter": "python",
   "pygments_lexer": "ipython3",
   "version": "3.7.9"
  }
 },
 "nbformat": 4,
 "nbformat_minor": 4
}
